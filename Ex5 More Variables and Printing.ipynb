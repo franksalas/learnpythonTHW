{
 "cells": [
  {
   "cell_type": "markdown",
   "metadata": {},
   "source": [
    "Now we’ll do even more typing of variables and printing them out. This time we’ll use something\n",
    "called a “format string.” Every time you put \" (double- quotes) around a piece of text,\n",
    "you have been making a string. A string is how you make something that your program might\n",
    "give to a human. You print them, save them to fi les, send them to web servers, all sorts of things.\n",
    "Strings are really handy, so in this exercise you will learn how to make strings that have variables\n",
    "embedded in them. You embed variables inside a \n",
    "\n",
    "string by using specialized format sequences\n",
    "and then putting the variables at the end with a special syntax that tells Python, “Hey, this is a\n",
    "format string, put these variables in there.”\n",
    "\n",
    "\n",
    "As usual, just type this in even if you do not understand it and make it exactly the same."
   ]
  },
  {
   "cell_type": "code",
   "execution_count": 2,
   "metadata": {
    "collapsed": false
   },
   "outputs": [
    {
     "name": "stdout",
     "output_type": "stream",
     "text": [
      "let's talk about Francisco Salas.\n",
      "He's 74 inches tall.\n",
      "He's 180 pounds heavy.\n",
      "Actually that is not too heavy.\n",
      "He's got Black eyes and Black hair.\n",
      "His teeth are usualy whiteish \n",
      "depending or the coffe.\n",
      "if I add 100, 74, and 180, I get 354\n"
     ]
    }
   ],
   "source": [
    "my_name = 'Francisco Salas'\n",
    "my_age = 100 # not a lie\n",
    "my_height = 74 # inches\n",
    "my_weight = 180 # lbs\n",
    "my_eyes = 'Black'\n",
    "my_teeth = 'whiteish'\n",
    "my_hair = 'Black'\n",
    "\n",
    "print \"let's talk about %s.\" %my_name\n",
    "print \"He's %d inches tall.\" % my_height\n",
    "print \"He's %d pounds heavy.\" %my_weight\n",
    "print \"Actually that is not too heavy.\"\n",
    "print \"He's got %s eyes and %s hair.\" %(my_eyes,my_hair)\n",
    "print \"His teeth are usualy %s \\ndepending or the coffe.\" %my_teeth\n",
    "\n",
    "# this like is tricky, try to get it exacly right\n",
    "print \"if I add %d, %d, and %d, I get %d\" %(my_age, my_height, my_weight,my_age + my_height + my_weight)\n"
   ]
  },
  {
   "cell_type": "code",
   "execution_count": null,
   "metadata": {
    "collapsed": true
   },
   "outputs": [],
   "source": []
  }
 ],
 "metadata": {
  "kernelspec": {
   "display_name": "Python 2",
   "language": "python",
   "name": "python2"
  },
  "language_info": {
   "codemirror_mode": {
    "name": "ipython",
    "version": 2
   },
   "file_extension": ".py",
   "mimetype": "text/x-python",
   "name": "python",
   "nbconvert_exporter": "python",
   "pygments_lexer": "ipython2",
   "version": "2.7.11"
  }
 },
 "nbformat": 4,
 "nbformat_minor": 0
}

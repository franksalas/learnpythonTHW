{
 "cells": [
  {
   "cell_type": "markdown",
   "metadata": {},
   "source": [
    "Now you can print things with print and you can do math. The next step is to learn about\n",
    "variables. In programming, a variable is nothing more than a name for something so you\n",
    "can use the name rather than the something as you code. Programmers use these variable\n",
    "names to make their code read more like English and because they have lousy memories. If\n",
    "they didn’t use good names for things in their software, they’d get lost when they tried to\n",
    "read their code again.\n",
    "If you get stuck with this exercise, remember the tricks you have been taught so far of fi nding\n",
    "differences and focusing on details:\n",
    " 1. Write a comment above each line explaining to yourself what it does in English.\n",
    " 2. Read your .py fi le backward.\n",
    " 3. Read your .py fi le out loud, saying even the characters"
   ]
  },
  {
   "cell_type": "code",
   "execution_count": null,
   "metadata": {
    "collapsed": true
   },
   "outputs": [],
   "source": []
  }
 ],
 "metadata": {
  "kernelspec": {
   "display_name": "Python 2",
   "language": "python",
   "name": "python2"
  },
  "language_info": {
   "codemirror_mode": {
    "name": "ipython",
    "version": 2
   },
   "file_extension": ".py",
   "mimetype": "text/x-python",
   "name": "python",
   "nbconvert_exporter": "python",
   "pygments_lexer": "ipython2",
   "version": "2.7.11"
  }
 },
 "nbformat": 4,
 "nbformat_minor": 0
}

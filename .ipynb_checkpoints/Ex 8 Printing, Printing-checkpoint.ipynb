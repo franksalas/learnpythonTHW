{
 "cells": [
  {
   "cell_type": "code",
   "execution_count": 2,
   "metadata": {
    "collapsed": false
   },
   "outputs": [
    {
     "name": "stdout",
     "output_type": "stream",
     "text": [
      "1 2 3 4\n",
      "'one' 'two' 'three' 'four'\n",
      "True False False True\n",
      "'%r %r %r %r' '%r %r %r %r' '%r %r %r %r' '%r %r %r %r'\n",
      "'I had this thing' 'That you could type up right.' \"But it dint't sing.\" 'So I said goodnight'\n"
     ]
    }
   ],
   "source": [
    "formatter = '%r %r %r %r'\n",
    "\n",
    "print formatter %(1,2,3,4)\n",
    "print formatter %('one', 'two','three','four')\n",
    "print formatter %(True,False,False,True)\n",
    "print formatter %(formatter,formatter, formatter, formatter)\n",
    "print formatter %(\n",
    "\"I had this thing\",\n",
    "\"That you could type up right.\",\n",
    "\"But it dint't sing.\",\n",
    "\"So I said goodnight\")"
   ]
  },
  {
   "cell_type": "code",
   "execution_count": null,
   "metadata": {
    "collapsed": true
   },
   "outputs": [],
   "source": []
  }
 ],
 "metadata": {
  "kernelspec": {
   "display_name": "Python 2",
   "language": "python",
   "name": "python2"
  },
  "language_info": {
   "codemirror_mode": {
    "name": "ipython",
    "version": 2
   },
   "file_extension": ".py",
   "mimetype": "text/x-python",
   "name": "python",
   "nbconvert_exporter": "python",
   "pygments_lexer": "ipython2",
   "version": "2.7.11"
  }
 },
 "nbformat": 4,
 "nbformat_minor": 0
}

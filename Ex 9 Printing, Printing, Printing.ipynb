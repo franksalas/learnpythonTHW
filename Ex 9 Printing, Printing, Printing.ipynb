{
 "cells": [
  {
   "cell_type": "code",
   "execution_count": 1,
   "metadata": {
    "collapsed": false
   },
   "outputs": [
    {
     "name": "stdout",
     "output_type": "stream",
     "text": [
      "Here are the days:  Mon Tue Wed Thu Fri Sat Sun\n",
      "Here are the months:  Jan\n",
      "Feb\n",
      "Mar\n",
      "Apr\n",
      "May\n",
      "Jun\n",
      "Jul\n",
      "Aug\n",
      "\n",
      "There's somethind going on here.\n",
      "With the three double-quotes.\n",
      "We'll be able to type as much as we like.\n",
      "Even 4 line s if we want, or 5, or 6.\n",
      "\n"
     ]
    }
   ],
   "source": [
    "# Here's some new strange stuff, remember type it exacty.\n",
    "\n",
    "days = 'Mon Tue Wed Thu Fri Sat Sun'\n",
    "months = 'Jan\\nFeb\\nMar\\nApr\\nMay\\nJun\\nJul\\nAug'\n",
    "\n",
    "print \"Here are the days: \", days\n",
    "print \"Here are the months: \", months\n",
    "\n",
    "print \"\"\"\n",
    "There's somethind going on here.\n",
    "With the three double-quotes.\n",
    "We'll be able to type as much as we like.\n",
    "Even 4 line s if we want, or 5, or 6.\n",
    "\"\"\""
   ]
  },
  {
   "cell_type": "code",
   "execution_count": null,
   "metadata": {
    "collapsed": true
   },
   "outputs": [],
   "source": []
  }
 ],
 "metadata": {
  "kernelspec": {
   "display_name": "Python 2",
   "language": "python",
   "name": "python2"
  },
  "language_info": {
   "codemirror_mode": {
    "name": "ipython",
    "version": 2
   },
   "file_extension": ".py",
   "mimetype": "text/x-python",
   "name": "python",
   "nbconvert_exporter": "python",
   "pygments_lexer": "ipython2",
   "version": "2.7.11"
  }
 },
 "nbformat": 4,
 "nbformat_minor": 0
}

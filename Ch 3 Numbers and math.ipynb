{
 "cells": [
  {
   "cell_type": "markdown",
   "metadata": {},
   "source": [
    "Every programming language has some kind of way of doing numbers and math. Do not worry:\n",
    "programmers lie frequently about being math geniuses when they really aren’t. If they were\n",
    "math geniuses, they would be doing math, not writing ads and social network games to steal\n",
    "people’s money.\n",
    "This exercise has lots of math symbols. Let’s name them right away so you know what they are\n",
    "called. As you type this one in, say the names. When saying them feels boring, you can stop saying\n",
    "them. Here are the names:\n",
    "- \\+ plus\n",
    "- \\- minus\n",
    "- / slash\n",
    "- \\* asterisk\n",
    "- % percent\n",
    "- < less- than\n",
    "- \\> greater- than\n",
    "- <= less- than- equal\n",
    "- \\>= greater- than- equal"
   ]
  },
  {
   "cell_type": "code",
   "execution_count": 4,
   "metadata": {},
   "outputs": [
    {
     "name": "stdout",
     "output_type": "stream",
     "text": [
      "I will now count my chickens:\n",
      "Hens 30\n",
      "Roosters 97\n",
      "7\n",
      "Is it true that  3 +2 < 5 -7 ?\n",
      "False\n",
      "What is 3 +  2 ? 5\n",
      "What is 5 - 7?  -2\n",
      "Oh, thast's why it's False.\n",
      "how about some more.\n",
      "Is it greater? True\n",
      " its it grater or equal? True\n",
      "Its it less or equal? False\n"
     ]
    }
   ],
   "source": [
    "print \"I will now count my chickens:\"\n",
    "print \"Hens\", 25 + 30/6\n",
    "print \"Roosters\", 100 - 25 *3% 4\n",
    "\n",
    "print 3 + 2+1- 5 + 4 %2 - 1/4+6\n",
    "\n",
    "print \"Is it true that  3 +2 < 5 -7 ?\"\n",
    "\n",
    "print 3 + 2< 5 - 7\n",
    "\n",
    "print \"What is 3 +  2 ?\", 3 +2\n",
    "\n",
    "print \"What is 5 - 7? \", 5 -7\n",
    "\n",
    "print \"Oh, thast's why it's False.\"\n",
    "\n",
    "print \"how about some more.\"\n",
    "\n",
    "print \"Is it greater?\", 5 > -2\n",
    "print \" its it grater or equal?\", 5>= -2\n",
    "print \"Its it less or equal?\", 5<= -2"
   ]
  },
  {
   "cell_type": "code",
   "execution_count": null,
   "metadata": {},
   "outputs": [],
   "source": [
    ""
   ]
  }
 ],
 "metadata": {
  "kernelspec": {
   "display_name": "Python 2",
   "language": "python",
   "name": "python2"
  },
  "language_info": {
   "codemirror_mode": {
    "name": "ipython",
    "version": 2.0
   },
   "file_extension": ".py",
   "mimetype": "text/x-python",
   "name": "python",
   "nbconvert_exporter": "python",
   "pygments_lexer": "ipython2",
   "version": "2.7.11"
  }
 },
 "nbformat": 4,
 "nbformat_minor": 0
}
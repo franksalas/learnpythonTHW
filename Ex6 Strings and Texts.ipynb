{
 "cells": [
  {
   "cell_type": "markdown",
   "metadata": {},
   "source": [
    "While you have already been writing strings, you still do not know what they do. In this exercise,\n",
    "we create a bunch of variables with complex strings so you can see what they are for.\n",
    "First an explanation of strings.\n",
    "\n",
    "\n",
    "A string is usually a bit of text you want to display to someone or “export” out of the program\n",
    "you are writing. Python knows you want something to be a string when you put either \" (doublequotes)\n",
    "or ' (single- quotes) around the text. You saw this many times with your use of print\n",
    "when you put the text you want to go to the string inside \" or ' after the print. Then Python\n",
    "prints it.\n",
    "\n",
    "\n",
    "Strings may contain the format characters you have discovered so far. You simply put the formatted\n",
    "variables in the string, and then a % (percent) character, followed by the variable. The only\n",
    "catch is that if you want multiple formats in your string to print multiple variables, you need to\n",
    "put them inside ( ) (parentheses) separated by , (commas). It’s as if you were telling me to buy\n",
    "you a list of items from the store and you said, “I want milk, eggs, bread, and soup.” Only as a\n",
    "programmer we say, “(milk, eggs, bread, soup).”\n",
    "\n",
    "\n",
    "We will now type in a whole bunch of strings, variables, and formats, and print them. You will\n",
    "also practice using short abbreviated variable names. Programmers love saving themselves time\n",
    "at your expense by using annoying cryptic variable names, so let’s get you started being able to\n",
    "read and write them early on."
   ]
  },
  {
   "cell_type": "code",
   "execution_count": 3,
   "metadata": {
    "collapsed": false
   },
   "outputs": [
    {
     "name": "stdout",
     "output_type": "stream",
     "text": [
      "There are 10 types of people.\n",
      "Those who binary and those who don't.\n",
      "I said : 'There are 10 types of people.'.\n",
      "I also said: 'Those who binary and those who don't.'. \n",
      "Isn't that joke funny?! False\n",
      "This is the left side of...a string with a right side.\n"
     ]
    }
   ],
   "source": [
    "x = \"There are %d types of people.\" % 10\n",
    "binary = 'binary'\n",
    "do_not = \"don't\"\n",
    "y = \"Those who %s and those who %s.\" %(binary, do_not)\n",
    "\n",
    "print x\n",
    "print y\n",
    "\n",
    "print \"I said : %r.\" % x\n",
    "print \"I also said: '%s'. \" % y\n",
    "\n",
    "hilarious = False\n",
    "joke_evaluation = \"Isn't that joke funny?! %r\"\n",
    "\n",
    "print joke_evaluation % hilarious\n",
    "\n",
    "w = \"This is the left side of...\"\n",
    "e = \"a string with a right side.\"\n",
    "\n",
    "print w + e"
   ]
  },
  {
   "cell_type": "code",
   "execution_count": null,
   "metadata": {
    "collapsed": true
   },
   "outputs": [],
   "source": []
  }
 ],
 "metadata": {
  "kernelspec": {
   "display_name": "Python 2",
   "language": "python",
   "name": "python2"
  },
  "language_info": {
   "codemirror_mode": {
    "name": "ipython",
    "version": 2
   },
   "file_extension": ".py",
   "mimetype": "text/x-python",
   "name": "python",
   "nbconvert_exporter": "python",
   "pygments_lexer": "ipython2",
   "version": "2.7.11"
  }
 },
 "nbformat": 4,
 "nbformat_minor": 0
}

{
 "cells": [
  {
   "cell_type": "markdown",
   "metadata": {},
   "source": [
    "Now we are going to do a bunch of exercises where you just type code in and make it run.\n",
    "\n",
    "I won’t be explaining much since it is just more of the same. The purpose is to build up your\n",
    "chops. See you in a few exercises, and do not skip! Do not paste"
   ]
  },
  {
   "cell_type": "code",
   "execution_count": 4,
   "metadata": {
    "collapsed": false
   },
   "outputs": [
    {
     "name": "stdout",
     "output_type": "stream",
     "text": [
      "Mary had a little lamb.\n",
      "Ts fleece and white as snow.\n",
      "And everywhere that Mary went.\n",
      "..........\n",
      "Cheese Burger\n"
     ]
    }
   ],
   "source": [
    "print \"Mary had a little lamb.\" #prints a string\n",
    "print \"Ts fleece and white as %s.\" % 'snow' # prints a string\n",
    "print \"And everywhere that Mary went.\"# prints a string\n",
    "print \".\" *10 # what does that do? it prints . then its multiplies by 10\n",
    "\n",
    "end1 = 'C'\n",
    "end2 = 'h'\n",
    "end3 = 'e'\n",
    "end4 = 'e'\n",
    "end5 = 's'\n",
    "end6 = 'e'\n",
    "end7 = 'B'\n",
    "end8 = 'u'\n",
    "end9 = 'r'\n",
    "end10 = 'g'\n",
    "end11 = 'e'\n",
    "end12 = 'r'\n",
    "\n",
    "# whatch that comma and the end. tr removing it to see what happens\n",
    "\n",
    "print end1 + end2 +end3 + end4 + end5 + end6, # prints cheese the comma  concats the ouputs\n",
    "print end7 + end8 + end9 + end10 + end11 + end12 # prints Burger"
   ]
  },
  {
   "cell_type": "markdown",
   "metadata": {},
   "source": [
    "## Study Drills\n",
    "For these next few exercises, you will have the exact same Study Drills.\n",
    "\n",
    " 1. Go back through and write a comment on what each line does.\n",
    " 2. Read each one backward or out loud to fi nd your errors.\n",
    " 3. From now on, when you make mistakes, write down on a piece of paper what kind of mistake you made.\n",
    " 4. When you go to the next exercise, look at the last mistakes you made and try not to make them in this new one.\n",
    " 5. Remember that everyone makes mistakes. Programmers are like magicians who like everyone to think th"
   ]
  },
  {
   "cell_type": "code",
   "execution_count": null,
   "metadata": {
    "collapsed": true
   },
   "outputs": [],
   "source": []
  }
 ],
 "metadata": {
  "kernelspec": {
   "display_name": "Python 2",
   "language": "python",
   "name": "python2"
  },
  "language_info": {
   "codemirror_mode": {
    "name": "ipython",
    "version": 2
   },
   "file_extension": ".py",
   "mimetype": "text/x-python",
   "name": "python",
   "nbconvert_exporter": "python",
   "pygments_lexer": "ipython2",
   "version": "2.7.11"
  }
 },
 "nbformat": 4,
 "nbformat_minor": 0
}
